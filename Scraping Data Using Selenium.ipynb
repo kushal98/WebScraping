{
 "cells": [
  {
   "cell_type": "code",
   "execution_count": 1,
   "metadata": {},
   "outputs": [],
   "source": [
    "from selenium import webdriver # allow launching browser\n",
    "from selenium.webdriver.common.by import By # allow search with parameters\n",
    "from selenium.webdriver.support.ui import WebDriverWait # allow waiting for page to load\n",
    "from selenium.webdriver.support import expected_conditions as EC # determine whether the web page has loaded\n",
    "from selenium.common.exceptions import TimeoutException # handling timeout situation"
   ]
  },
  {
   "cell_type": "code",
   "execution_count": 4,
   "metadata": {},
   "outputs": [],
   "source": [
    "driver_option = webdriver.ChromeOptions()\n",
    "driver_option.add_argument(\" — incognito\")\n",
    "chromedriver_path = './webdrivers/chromedriver.exe' # Change this to your own chromedriver path!\n",
    "def create_webdriver():\n",
    "    return webdriver.Chrome(executable_path=chromedriver_path, options=driver_option)"
   ]
  },
  {
   "cell_type": "code",
   "execution_count": 18,
   "metadata": {},
   "outputs": [],
   "source": [
    "# Open the website\n",
    "browser = create_webdriver()\n",
    "browser.get(\"https://github.com/collections/machine-learning\")"
   ]
  },
  {
   "cell_type": "code",
   "execution_count": 19,
   "metadata": {},
   "outputs": [],
   "source": [
    "# Extract all projects\n",
    "projects = browser.find_elements_by_xpath(\"//h1[@class='h3 lh-condensed']\")"
   ]
  },
  {
   "cell_type": "code",
   "execution_count": 20,
   "metadata": {},
   "outputs": [
    {
     "data": {
      "text/plain": [
       "[<selenium.webdriver.remote.webelement.WebElement (session=\"700a8ce5d50cccfe7530eccdb42ddd72\", element=\"8704110c-73f4-42fc-a1bb-fefb37627165\")>,\n",
       " <selenium.webdriver.remote.webelement.WebElement (session=\"700a8ce5d50cccfe7530eccdb42ddd72\", element=\"c9db3192-0aeb-459d-917b-0b8ccd3e9ab3\")>,\n",
       " <selenium.webdriver.remote.webelement.WebElement (session=\"700a8ce5d50cccfe7530eccdb42ddd72\", element=\"8b774a7f-ee18-46e5-8b59-ef8193edf180\")>,\n",
       " <selenium.webdriver.remote.webelement.WebElement (session=\"700a8ce5d50cccfe7530eccdb42ddd72\", element=\"29c3da4c-8211-4677-85a6-68e177e466d1\")>,\n",
       " <selenium.webdriver.remote.webelement.WebElement (session=\"700a8ce5d50cccfe7530eccdb42ddd72\", element=\"717ade7a-3ff4-4b42-807c-aabce32ae349\")>,\n",
       " <selenium.webdriver.remote.webelement.WebElement (session=\"700a8ce5d50cccfe7530eccdb42ddd72\", element=\"688173e3-d8f1-4a64-9820-54eb82a19a77\")>,\n",
       " <selenium.webdriver.remote.webelement.WebElement (session=\"700a8ce5d50cccfe7530eccdb42ddd72\", element=\"0dfd27f4-8da2-43da-99fc-fe47850cbc3e\")>,\n",
       " <selenium.webdriver.remote.webelement.WebElement (session=\"700a8ce5d50cccfe7530eccdb42ddd72\", element=\"ac44fa4d-f096-44f9-9dac-e8db7f607630\")>,\n",
       " <selenium.webdriver.remote.webelement.WebElement (session=\"700a8ce5d50cccfe7530eccdb42ddd72\", element=\"c84588e7-6a76-4eaa-b57e-44afc68b841d\")>,\n",
       " <selenium.webdriver.remote.webelement.WebElement (session=\"700a8ce5d50cccfe7530eccdb42ddd72\", element=\"1361b392-ee9e-4222-9a2f-e33a3c41394b\")>,\n",
       " <selenium.webdriver.remote.webelement.WebElement (session=\"700a8ce5d50cccfe7530eccdb42ddd72\", element=\"307fd4fc-a8dc-4971-b476-e3f57e4cefe9\")>,\n",
       " <selenium.webdriver.remote.webelement.WebElement (session=\"700a8ce5d50cccfe7530eccdb42ddd72\", element=\"fff6ff33-f087-4e81-9f2f-428a8a0bf17a\")>,\n",
       " <selenium.webdriver.remote.webelement.WebElement (session=\"700a8ce5d50cccfe7530eccdb42ddd72\", element=\"e4713b44-b176-4c20-942c-8089650cff78\")>,\n",
       " <selenium.webdriver.remote.webelement.WebElement (session=\"700a8ce5d50cccfe7530eccdb42ddd72\", element=\"de488bca-f21d-453d-9df7-f5c4139386b1\")>,\n",
       " <selenium.webdriver.remote.webelement.WebElement (session=\"700a8ce5d50cccfe7530eccdb42ddd72\", element=\"366665ba-8cf0-4799-b98e-1a36893acfaf\")>,\n",
       " <selenium.webdriver.remote.webelement.WebElement (session=\"700a8ce5d50cccfe7530eccdb42ddd72\", element=\"2c8c9776-54cb-4018-91b1-ff6ff6d5b1e4\")>,\n",
       " <selenium.webdriver.remote.webelement.WebElement (session=\"700a8ce5d50cccfe7530eccdb42ddd72\", element=\"d6a783d1-02b3-487f-87f5-c79615cebf34\")>,\n",
       " <selenium.webdriver.remote.webelement.WebElement (session=\"700a8ce5d50cccfe7530eccdb42ddd72\", element=\"2999a2f3-d2cf-4904-ad67-e0de6cee340a\")>,\n",
       " <selenium.webdriver.remote.webelement.WebElement (session=\"700a8ce5d50cccfe7530eccdb42ddd72\", element=\"a7702638-8b09-46ec-8066-0827f07e48e7\")>,\n",
       " <selenium.webdriver.remote.webelement.WebElement (session=\"700a8ce5d50cccfe7530eccdb42ddd72\", element=\"b146a22d-490d-4961-85e0-0061ad71a009\")>]"
      ]
     },
     "execution_count": 20,
     "metadata": {},
     "output_type": "execute_result"
    }
   ],
   "source": [
    "projects"
   ]
  },
  {
   "cell_type": "code",
   "execution_count": 21,
   "metadata": {},
   "outputs": [
    {
     "name": "stdout",
     "output_type": "stream",
     "text": [
      "<selenium.webdriver.remote.webelement.WebElement (session=\"700a8ce5d50cccfe7530eccdb42ddd72\", element=\"8704110c-73f4-42fc-a1bb-fefb37627165\")>\n",
      "<selenium.webdriver.remote.webelement.WebElement (session=\"700a8ce5d50cccfe7530eccdb42ddd72\", element=\"c9db3192-0aeb-459d-917b-0b8ccd3e9ab3\")>\n",
      "<selenium.webdriver.remote.webelement.WebElement (session=\"700a8ce5d50cccfe7530eccdb42ddd72\", element=\"8b774a7f-ee18-46e5-8b59-ef8193edf180\")>\n",
      "<selenium.webdriver.remote.webelement.WebElement (session=\"700a8ce5d50cccfe7530eccdb42ddd72\", element=\"29c3da4c-8211-4677-85a6-68e177e466d1\")>\n",
      "<selenium.webdriver.remote.webelement.WebElement (session=\"700a8ce5d50cccfe7530eccdb42ddd72\", element=\"717ade7a-3ff4-4b42-807c-aabce32ae349\")>\n",
      "<selenium.webdriver.remote.webelement.WebElement (session=\"700a8ce5d50cccfe7530eccdb42ddd72\", element=\"688173e3-d8f1-4a64-9820-54eb82a19a77\")>\n",
      "<selenium.webdriver.remote.webelement.WebElement (session=\"700a8ce5d50cccfe7530eccdb42ddd72\", element=\"0dfd27f4-8da2-43da-99fc-fe47850cbc3e\")>\n",
      "<selenium.webdriver.remote.webelement.WebElement (session=\"700a8ce5d50cccfe7530eccdb42ddd72\", element=\"ac44fa4d-f096-44f9-9dac-e8db7f607630\")>\n",
      "<selenium.webdriver.remote.webelement.WebElement (session=\"700a8ce5d50cccfe7530eccdb42ddd72\", element=\"c84588e7-6a76-4eaa-b57e-44afc68b841d\")>\n",
      "<selenium.webdriver.remote.webelement.WebElement (session=\"700a8ce5d50cccfe7530eccdb42ddd72\", element=\"1361b392-ee9e-4222-9a2f-e33a3c41394b\")>\n",
      "<selenium.webdriver.remote.webelement.WebElement (session=\"700a8ce5d50cccfe7530eccdb42ddd72\", element=\"307fd4fc-a8dc-4971-b476-e3f57e4cefe9\")>\n",
      "<selenium.webdriver.remote.webelement.WebElement (session=\"700a8ce5d50cccfe7530eccdb42ddd72\", element=\"fff6ff33-f087-4e81-9f2f-428a8a0bf17a\")>\n",
      "<selenium.webdriver.remote.webelement.WebElement (session=\"700a8ce5d50cccfe7530eccdb42ddd72\", element=\"e4713b44-b176-4c20-942c-8089650cff78\")>\n",
      "<selenium.webdriver.remote.webelement.WebElement (session=\"700a8ce5d50cccfe7530eccdb42ddd72\", element=\"de488bca-f21d-453d-9df7-f5c4139386b1\")>\n",
      "<selenium.webdriver.remote.webelement.WebElement (session=\"700a8ce5d50cccfe7530eccdb42ddd72\", element=\"366665ba-8cf0-4799-b98e-1a36893acfaf\")>\n",
      "<selenium.webdriver.remote.webelement.WebElement (session=\"700a8ce5d50cccfe7530eccdb42ddd72\", element=\"2c8c9776-54cb-4018-91b1-ff6ff6d5b1e4\")>\n",
      "<selenium.webdriver.remote.webelement.WebElement (session=\"700a8ce5d50cccfe7530eccdb42ddd72\", element=\"d6a783d1-02b3-487f-87f5-c79615cebf34\")>\n",
      "<selenium.webdriver.remote.webelement.WebElement (session=\"700a8ce5d50cccfe7530eccdb42ddd72\", element=\"2999a2f3-d2cf-4904-ad67-e0de6cee340a\")>\n",
      "<selenium.webdriver.remote.webelement.WebElement (session=\"700a8ce5d50cccfe7530eccdb42ddd72\", element=\"a7702638-8b09-46ec-8066-0827f07e48e7\")>\n",
      "<selenium.webdriver.remote.webelement.WebElement (session=\"700a8ce5d50cccfe7530eccdb42ddd72\", element=\"b146a22d-490d-4961-85e0-0061ad71a009\")>\n"
     ]
    }
   ],
   "source": [
    "# Extract information for each project\n",
    "project_list = {}\n",
    "for proj in projects:\n",
    "    proj_name = proj.text # Project name\n",
    "    proj_url = proj.find_elements_by_xpath(\"a\")[0].get_attribute('href') # Project URL\n",
    "    project_list[proj_name] = proj_url"
   ]
  },
  {
   "cell_type": "code",
   "execution_count": 22,
   "metadata": {},
   "outputs": [
    {
     "data": {
      "text/plain": [
       "{'apache / spark': 'https://github.com/apache/spark',\n",
       " 'apache / hadoop': 'https://github.com/apache/hadoop',\n",
       " 'jbhuang0604 / awesome-computer-vision': 'https://github.com/jbhuang0604/awesome-computer-vision',\n",
       " 'GSA / data': 'https://github.com/GSA/data',\n",
       " 'GoogleTrends / data': 'https://github.com/GoogleTrends/data',\n",
       " 'nationalparkservice / data': 'https://github.com/nationalparkservice/data',\n",
       " 'fivethirtyeight / data': 'https://github.com/fivethirtyeight/data',\n",
       " 'beamandrew / medical-data': 'https://github.com/beamandrew/medical-data',\n",
       " 'src-d / awesome-machine-learning-on-source-code': 'https://github.com/src-d/awesome-machine-learning-on-source-code',\n",
       " 'igrigorik / decisiontree': 'https://github.com/igrigorik/decisiontree',\n",
       " 'keon / awesome-nlp': 'https://github.com/keon/awesome-nlp',\n",
       " 'openai / gym': 'https://github.com/openai/gym',\n",
       " 'aikorea / awesome-rl': 'https://github.com/aikorea/awesome-rl',\n",
       " 'umutisik / Eigentechno': 'https://github.com/umutisik/Eigentechno',\n",
       " 'jpmckinney / tf-idf-similarity': 'https://github.com/jpmckinney/tf-idf-similarity',\n",
       " 'scikit-learn-contrib / lightning': 'https://github.com/scikit-learn-contrib/lightning',\n",
       " 'gwding / draw_convnet': 'https://github.com/gwding/draw_convnet',\n",
       " 'scikit-learn / scikit-learn': 'https://github.com/scikit-learn/scikit-learn',\n",
       " 'tensorflow / tensorflow': 'https://github.com/tensorflow/tensorflow',\n",
       " 'Theano / Theano': 'https://github.com/Theano/Theano'}"
      ]
     },
     "execution_count": 22,
     "metadata": {},
     "output_type": "execute_result"
    }
   ],
   "source": [
    "project_list"
   ]
  },
  {
   "cell_type": "code",
   "execution_count": 10,
   "metadata": {},
   "outputs": [],
   "source": [
    "# Close connection\n",
    "browser.quit()"
   ]
  },
  {
   "cell_type": "code",
   "execution_count": 12,
   "metadata": {},
   "outputs": [],
   "source": [
    "import pandas as pd"
   ]
  },
  {
   "cell_type": "code",
   "execution_count": 13,
   "metadata": {},
   "outputs": [],
   "source": [
    "# Extracting data\n",
    "project_df = pd.DataFrame.from_dict(project_list, orient = 'index')"
   ]
  },
  {
   "cell_type": "code",
   "execution_count": 14,
   "metadata": {},
   "outputs": [],
   "source": [
    "# Manipulate the table\n",
    "project_df['project_name'] = project_df.index\n",
    "project_df.columns = ['project_url', 'project_name']\n",
    "project_df = project_df.reset_index(drop=True)"
   ]
  },
  {
   "cell_type": "code",
   "execution_count": 15,
   "metadata": {},
   "outputs": [],
   "source": [
    "# Export project dataframe to CSV\n",
    "project_df.to_csv('project_list.csv')"
   ]
  },
  {
   "cell_type": "code",
   "execution_count": 17,
   "metadata": {},
   "outputs": [
    {
     "data": {
      "text/html": [
       "<div>\n",
       "<style scoped>\n",
       "    .dataframe tbody tr th:only-of-type {\n",
       "        vertical-align: middle;\n",
       "    }\n",
       "\n",
       "    .dataframe tbody tr th {\n",
       "        vertical-align: top;\n",
       "    }\n",
       "\n",
       "    .dataframe thead th {\n",
       "        text-align: right;\n",
       "    }\n",
       "</style>\n",
       "<table border=\"1\" class=\"dataframe\">\n",
       "  <thead>\n",
       "    <tr style=\"text-align: right;\">\n",
       "      <th></th>\n",
       "      <th>project_url</th>\n",
       "      <th>project_name</th>\n",
       "    </tr>\n",
       "  </thead>\n",
       "  <tbody>\n",
       "    <tr>\n",
       "      <th>0</th>\n",
       "      <td>https://github.com/apache/spark</td>\n",
       "      <td>apache / spark</td>\n",
       "    </tr>\n",
       "    <tr>\n",
       "      <th>1</th>\n",
       "      <td>https://github.com/apache/hadoop</td>\n",
       "      <td>apache / hadoop</td>\n",
       "    </tr>\n",
       "    <tr>\n",
       "      <th>2</th>\n",
       "      <td>https://github.com/jbhuang0604/awesome-compute...</td>\n",
       "      <td>jbhuang0604 / awesome-computer-vision</td>\n",
       "    </tr>\n",
       "    <tr>\n",
       "      <th>3</th>\n",
       "      <td>https://github.com/GSA/data</td>\n",
       "      <td>GSA / data</td>\n",
       "    </tr>\n",
       "    <tr>\n",
       "      <th>4</th>\n",
       "      <td>https://github.com/GoogleTrends/data</td>\n",
       "      <td>GoogleTrends / data</td>\n",
       "    </tr>\n",
       "    <tr>\n",
       "      <th>5</th>\n",
       "      <td>https://github.com/nationalparkservice/data</td>\n",
       "      <td>nationalparkservice / data</td>\n",
       "    </tr>\n",
       "    <tr>\n",
       "      <th>6</th>\n",
       "      <td>https://github.com/fivethirtyeight/data</td>\n",
       "      <td>fivethirtyeight / data</td>\n",
       "    </tr>\n",
       "    <tr>\n",
       "      <th>7</th>\n",
       "      <td>https://github.com/beamandrew/medical-data</td>\n",
       "      <td>beamandrew / medical-data</td>\n",
       "    </tr>\n",
       "    <tr>\n",
       "      <th>8</th>\n",
       "      <td>https://github.com/src-d/awesome-machine-learn...</td>\n",
       "      <td>src-d / awesome-machine-learning-on-source-code</td>\n",
       "    </tr>\n",
       "    <tr>\n",
       "      <th>9</th>\n",
       "      <td>https://github.com/igrigorik/decisiontree</td>\n",
       "      <td>igrigorik / decisiontree</td>\n",
       "    </tr>\n",
       "    <tr>\n",
       "      <th>10</th>\n",
       "      <td>https://github.com/keon/awesome-nlp</td>\n",
       "      <td>keon / awesome-nlp</td>\n",
       "    </tr>\n",
       "    <tr>\n",
       "      <th>11</th>\n",
       "      <td>https://github.com/openai/gym</td>\n",
       "      <td>openai / gym</td>\n",
       "    </tr>\n",
       "    <tr>\n",
       "      <th>12</th>\n",
       "      <td>https://github.com/aikorea/awesome-rl</td>\n",
       "      <td>aikorea / awesome-rl</td>\n",
       "    </tr>\n",
       "    <tr>\n",
       "      <th>13</th>\n",
       "      <td>https://github.com/umutisik/Eigentechno</td>\n",
       "      <td>umutisik / Eigentechno</td>\n",
       "    </tr>\n",
       "    <tr>\n",
       "      <th>14</th>\n",
       "      <td>https://github.com/jpmckinney/tf-idf-similarity</td>\n",
       "      <td>jpmckinney / tf-idf-similarity</td>\n",
       "    </tr>\n",
       "    <tr>\n",
       "      <th>15</th>\n",
       "      <td>https://github.com/scikit-learn-contrib/lightning</td>\n",
       "      <td>scikit-learn-contrib / lightning</td>\n",
       "    </tr>\n",
       "    <tr>\n",
       "      <th>16</th>\n",
       "      <td>https://github.com/gwding/draw_convnet</td>\n",
       "      <td>gwding / draw_convnet</td>\n",
       "    </tr>\n",
       "    <tr>\n",
       "      <th>17</th>\n",
       "      <td>https://github.com/scikit-learn/scikit-learn</td>\n",
       "      <td>scikit-learn / scikit-learn</td>\n",
       "    </tr>\n",
       "    <tr>\n",
       "      <th>18</th>\n",
       "      <td>https://github.com/tensorflow/tensorflow</td>\n",
       "      <td>tensorflow / tensorflow</td>\n",
       "    </tr>\n",
       "    <tr>\n",
       "      <th>19</th>\n",
       "      <td>https://github.com/Theano/Theano</td>\n",
       "      <td>Theano / Theano</td>\n",
       "    </tr>\n",
       "  </tbody>\n",
       "</table>\n",
       "</div>"
      ],
      "text/plain": [
       "                                          project_url  \\\n",
       "0                     https://github.com/apache/spark   \n",
       "1                    https://github.com/apache/hadoop   \n",
       "2   https://github.com/jbhuang0604/awesome-compute...   \n",
       "3                         https://github.com/GSA/data   \n",
       "4                https://github.com/GoogleTrends/data   \n",
       "5         https://github.com/nationalparkservice/data   \n",
       "6             https://github.com/fivethirtyeight/data   \n",
       "7          https://github.com/beamandrew/medical-data   \n",
       "8   https://github.com/src-d/awesome-machine-learn...   \n",
       "9           https://github.com/igrigorik/decisiontree   \n",
       "10                https://github.com/keon/awesome-nlp   \n",
       "11                      https://github.com/openai/gym   \n",
       "12              https://github.com/aikorea/awesome-rl   \n",
       "13            https://github.com/umutisik/Eigentechno   \n",
       "14    https://github.com/jpmckinney/tf-idf-similarity   \n",
       "15  https://github.com/scikit-learn-contrib/lightning   \n",
       "16             https://github.com/gwding/draw_convnet   \n",
       "17       https://github.com/scikit-learn/scikit-learn   \n",
       "18           https://github.com/tensorflow/tensorflow   \n",
       "19                   https://github.com/Theano/Theano   \n",
       "\n",
       "                                       project_name  \n",
       "0                                    apache / spark  \n",
       "1                                   apache / hadoop  \n",
       "2             jbhuang0604 / awesome-computer-vision  \n",
       "3                                        GSA / data  \n",
       "4                               GoogleTrends / data  \n",
       "5                        nationalparkservice / data  \n",
       "6                            fivethirtyeight / data  \n",
       "7                         beamandrew / medical-data  \n",
       "8   src-d / awesome-machine-learning-on-source-code  \n",
       "9                          igrigorik / decisiontree  \n",
       "10                               keon / awesome-nlp  \n",
       "11                                     openai / gym  \n",
       "12                             aikorea / awesome-rl  \n",
       "13                           umutisik / Eigentechno  \n",
       "14                   jpmckinney / tf-idf-similarity  \n",
       "15                 scikit-learn-contrib / lightning  \n",
       "16                            gwding / draw_convnet  \n",
       "17                      scikit-learn / scikit-learn  \n",
       "18                          tensorflow / tensorflow  \n",
       "19                                  Theano / Theano  "
      ]
     },
     "execution_count": 17,
     "metadata": {},
     "output_type": "execute_result"
    }
   ],
   "source": [
    "project_df"
   ]
  },
  {
   "cell_type": "code",
   "execution_count": null,
   "metadata": {},
   "outputs": [],
   "source": []
  }
 ],
 "metadata": {
  "kernelspec": {
   "display_name": "Python 3",
   "language": "python",
   "name": "python3"
  },
  "language_info": {
   "codemirror_mode": {
    "name": "ipython",
    "version": 3
   },
   "file_extension": ".py",
   "mimetype": "text/x-python",
   "name": "python",
   "nbconvert_exporter": "python",
   "pygments_lexer": "ipython3",
   "version": "3.7.1"
  }
 },
 "nbformat": 4,
 "nbformat_minor": 2
}
