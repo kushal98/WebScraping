{
 "cells": [
  {
   "cell_type": "code",
   "execution_count": 9,
   "metadata": {},
   "outputs": [
    {
     "name": "stderr",
     "output_type": "stream",
     "text": [
      "D:\\Anaconda\\lib\\site-packages\\urllib3\\connectionpool.py:847: InsecureRequestWarning: Unverified HTTPS request is being made. Adding certificate verification is strongly advised. See: https://urllib3.readthedocs.io/en/latest/advanced-usage.html#ssl-warnings\n",
      "  InsecureRequestWarning)\n",
      "D:\\Anaconda\\lib\\site-packages\\urllib3\\connectionpool.py:847: InsecureRequestWarning: Unverified HTTPS request is being made. Adding certificate verification is strongly advised. See: https://urllib3.readthedocs.io/en/latest/advanced-usage.html#ssl-warnings\n",
      "  InsecureRequestWarning)\n"
     ]
    },
    {
     "name": "stdout",
     "output_type": "stream",
     "text": [
      "Feature Film,\n",
      "Released between 2018-01-01 and 2018-12-31\n",
      "(Sorted by Popularity Ascending) - IMDb\n"
     ]
    }
   ],
   "source": [
    "import urllib3\n",
    "from bs4 import BeautifulSoup\n",
    "import tqdm\n",
    "\n",
    "year = '2018'\n",
    "url = \"http://www.imdb.com/search/title?release_date=\" + year + \",\" + year + \"&title_type=feature\"\n",
    "ourUrl = urllib3.PoolManager().request('GET', url).data\n",
    "soup = BeautifulSoup(ourUrl, \"lxml\")\n",
    "print(soup.find('title').text)"
   ]
  },
  {
   "cell_type": "code",
   "execution_count": 11,
   "metadata": {},
   "outputs": [
    {
     "name": "stdout",
     "output_type": "stream",
     "text": [
      "1.\n",
      "Movie: Antrum: The Deadliest Film Ever Made\n",
      "2.\n",
      "Movie: Avengers: Infinity War\n",
      "3.\n",
      "Movie: Green Book\n",
      "4.\n",
      "Movie: A Quiet Place\n",
      "5.\n",
      "Movie: Ocean's Eight\n",
      "6.\n",
      "Movie: Black Panther\n",
      "7.\n",
      "Movie: Bohemian Rhapsody\n",
      "8.\n",
      "Movie: A Simple Favor\n",
      "9.\n",
      "Movie: Spider-Man: Into the Spider-Verse\n",
      "10.\n",
      "Movie: Deadpool 2\n",
      "11.\n",
      "Movie: Mission: Impossible - Fallout\n",
      "12.\n",
      "Movie: Hereditary\n",
      "13.\n",
      "Movie: Bumblebee\n",
      "14.\n",
      "Movie: Annihilation\n",
      "15.\n",
      "Movie: Game Night\n",
      "16.\n",
      "Movie: Aquaman\n",
      "17.\n",
      "Movie: Solo: A Star Wars Story\n",
      "18.\n",
      "Movie: The Meg\n",
      "19.\n",
      "Movie: Durante la tormenta\n",
      "20.\n",
      "Movie: Fantastic Beasts: The Crimes of Grindelwald\n",
      "21.\n",
      "Movie: Peter Rabbit\n",
      "22.\n",
      "Movie: Ready Player One\n",
      "23.\n",
      "Movie: Nomis\n",
      "24.\n",
      "Movie: Upgrade\n",
      "25.\n",
      "Movie: A Star Is Born\n",
      "26.\n",
      "Movie: Venom\n",
      "27.\n",
      "Movie: BlacKkKlansman\n",
      "28.\n",
      "Movie: Bird Box\n",
      "29.\n",
      "Movie: Instant Family\n",
      "30.\n",
      "Movie: Jurassic World: Fallen Kingdom\n",
      "31.\n",
      "Movie: Capharnam\n",
      "32.\n",
      "Movie: Crazy Rich Asians\n",
      "33.\n",
      "Movie: The Favourite\n",
      "34.\n",
      "Movie: Mary Poppins Returns\n",
      "35.\n",
      "Movie: Incredibles 2\n",
      "36.\n",
      "Movie: The Ballad of Buster Scruggs\n",
      "37.\n",
      "Movie: Freaks\n",
      "38.\n",
      "Movie: Grns\n",
      "39.\n",
      "Movie: Ant-Man and the Wasp\n",
      "40.\n",
      "Movie: Mary Magdalene\n",
      "41.\n",
      "Movie: Overlord\n",
      "42.\n",
      "Movie: Mamma Mia! Here We Go Again\n",
      "43.\n",
      "Movie: Beautiful Boy\n",
      "44.\n",
      "Movie: Bad Times at the El Royale\n",
      "45.\n",
      "Movie: Mary Queen of Scots\n",
      "46.\n",
      "Movie: The Predator\n",
      "47.\n",
      "Movie: Vice\n",
      "48.\n",
      "Movie: Suspiria\n",
      "49.\n",
      "Movie: Fifty Shades Freed\n",
      "50.\n",
      "Movie: The Mule\n"
     ]
    }
   ],
   "source": [
    "i = 1\n",
    "movieList = soup.findAll('div', attrs={'class': 'lister-item mode-advanced'})\n",
    "for div_item in movieList:\n",
    "    div = div_item.find('div',attrs={'class':'lister-item-content'})\n",
    "    print(str(i) + '.')\n",
    "    header = div.findChildren('h3',attrs={'class':'lister-item-header'})\n",
    "    print('Movie: ' + str((header[0].findChildren('a'))[0].contents[0].encode('utf-8').decode('ascii', 'ignore')))\n",
    "    i += 1"
   ]
  },
  {
   "cell_type": "code",
   "execution_count": null,
   "metadata": {},
   "outputs": [],
   "source": []
  }
 ],
 "metadata": {
  "kernelspec": {
   "display_name": "Python 3",
   "language": "python",
   "name": "python3"
  },
  "language_info": {
   "codemirror_mode": {
    "name": "ipython",
    "version": 3
   },
   "file_extension": ".py",
   "mimetype": "text/x-python",
   "name": "python",
   "nbconvert_exporter": "python",
   "pygments_lexer": "ipython3",
   "version": "3.7.1"
  }
 },
 "nbformat": 4,
 "nbformat_minor": 2
}
